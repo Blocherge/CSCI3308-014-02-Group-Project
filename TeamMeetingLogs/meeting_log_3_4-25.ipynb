Meeting during lab on Thursday

We followed the instructions for the lab and writing a positive test and a negitive test. Worked on the getting api info from mountain specific websites and worked on adding the info to the database. Also looked at fixing the register page, will continue to fix.
