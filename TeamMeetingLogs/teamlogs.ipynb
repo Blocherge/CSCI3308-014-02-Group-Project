{
 "cells": [
  {
   "cell_type": "markdown",
   "metadata": {},
   "source": [
    "Lab 9:\n",
    "\n",
    "\n",
    "Group Number: 014-2\n",
    "\n",
    "\n",
    "Group Name: Liftability\n",
    "\n",
    "\n",
    "Group Members: \n",
    "    \n",
    "    Graham Blocher, Github: Blocherge, graham.blocher@colorado.edu\n",
    "\n",
    "    Jack Coan, Github: Jackocu202, jack.coan@colorado.edu\n",
    "\n",
    "    Caleb Bettcher, \n",
    "\n",
    "    Cole Clare, Github: cclare129, coleridge.clare@colorado.edu\n",
    "\n",
    "    Logan DeLoureiro, Github: ldeloureiro72, logan.deloureiro@colorado.edu\n",
    "\n",
    "    Xavier Rudnick: Github Xavierudnick, xaru3151@colorado.edu\n",
    "\n",
    "\n",
    "Application Name: Liftability\n",
    "\n",
    "\n",
    "Application Description:\n",
    "    A web software that allows users to check how busy lifts are and what the weather looks like so that they can have the most enjoyable time skiing. The software will use the ikon reservation API to get reservations on lifts and the National Weather Service API to get the projected weather at each of the lifts we are also considering open-meteo as another API that tracks weather via longitude and latitude. The software will additionally allow signed in users who are on the mountains to add how busy the lift is while they are there. \n",
    "\n",
    "    The mountains tracked will be all mountains in the ikon pass since those are likely to be the most used by college students. Users will be required to sign in and create an account to check the schedules and to leave notes. There will also be a seperate blog/review page where users can comment and review the powder on trails at any given time. \n",
    "\n",
    "Audience:\n",
    "    People who are using the ikon pass and are looking for an opportunity to do more skiing/snowboarding and less standing in line. This group is likely in the range of 18-35 and will likely be a good number of college students. The interactions will be allowing users to sign in, select mountains, and leave path reviews. All of these interactions should be fimiliar to people of this age range.\n",
    "\n",
    "\n",
    "Vision Statement:\n",
    "    Make skiing more fun for the most dedicated skiers by making them confident they will find a open trail with good powder.\n",
    "\n",
    "Development Methodology:\n",
    "    Expectations for each member will be written in the group notes each week and will be tracked for completion at the next meeting.\n",
    "\n",
    "Communication Plan:\n",
    "    Our team will create 2 slack channels, one for the group and one with the TA.\n",
    "\n",
    "Meeting Plan:\n",
    "    Group meeting: Immediately after the recitation section Thursdays at 1:10 \n",
    "    TA meeting: 4:00 on Fridays"
   ]
  },
  {
   "cell_type": "markdown",
   "metadata": {},
   "source": []
  }
 ],
 "metadata": {
  "language_info": {
   "name": "python"
  }
 },
 "nbformat": 4,
 "nbformat_minor": 2
}
