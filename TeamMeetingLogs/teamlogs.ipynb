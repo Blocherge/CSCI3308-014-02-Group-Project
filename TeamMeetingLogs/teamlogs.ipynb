{
 "cells": [
  {
   "cell_type": "markdown",
   "metadata": {},
   "source": [
    "Lab 9:\n",
    "\n",
    "\n",
    "Group Number: 014-2\n",
    "\n",
    "\n",
    "Group Name: \n",
    "\n",
    "\n",
    "Group Members: \n",
    "    \n",
    "    Graham Blocher, \n",
    "    \n",
    "    Jack Coan,\n",
    "    \n",
    "    Caleb Bettcher,\n",
    "    \n",
    "    Cole Clare,\n",
    "    \n",
    "    Logan DeLoureiro,\n",
    "    \n",
    "    Xavier Rudnick\n",
    "\n",
    "\n",
    "Application Name:\n",
    "\n",
    "\n",
    "Application Description:\n",
    "\n",
    "\n",
    "Audience:\n",
    "\n",
    "\n",
    "Vision Statement:"
   ]
  },
  {
   "cell_type": "markdown",
   "metadata": {},
   "source": []
  }
 ],
 "metadata": {
  "language_info": {
   "name": "python"
  }
 },
 "nbformat": 4,
 "nbformat_minor": 2
}
