{
 "cells": [
  {
   "cell_type": "markdown",
   "metadata": {},
   "source": [
    "Lab 9:\n",
    "\n",
    "\n",
    "Group Number: 014-2\n",
    "\n",
    "\n",
    "Group Name: Liftability \n",
    "\n",
    "\n",
    "Group Members: \n",
    "    \n",
    "    Graham Blocher, Github: Blocherge, graham.blocher@colorado.edu\n",
    "    \n",
    "    Jack Coan, Github: Jackocu202, jack.coan@colorado.edu\n",
    "    \n",
    "    Caleb Bettcher, \n",
    "    \n",
    "    Cole Clare, Github: cclare129, coleridge.clare@colorado.edu\n",
    "    \n",
    "    Logan DeLoureiro, Github: ldeloureiro72, logan.deloureiro@colorado.edu\n",
    "    \n",
    "    Xavier Rudnick: Github Xavierudnick, xaru3151@colorado.edu\n",
    "\n",
    "\n",
    "Application Name:\n",
    "\n",
    "\n",
    "Application Description:\n",
    "\n",
    "\n",
    "Audience:\n",
    "\n",
    "\n",
    "Vision Statement:"
   ]
  },
  {
   "cell_type": "markdown",
   "metadata": {},
   "source": []
  }
 ],
 "metadata": {
  "language_info": {
   "name": "python"
  }
 },
 "nbformat": 4,
 "nbformat_minor": 2
}
