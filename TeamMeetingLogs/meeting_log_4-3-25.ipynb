{
 "cells": [
  {
   "cell_type": "markdown",
   "metadata": {},
   "source": [
    "The group met Thursday 4-3-25 to discuss furhter work on the code base and nexts steps:\n",
    "\n",
    "Beginning: discussed addition of database building epic, and assigned team members to complete before the beginning of next week."
   ]
  }
 ],
 "metadata": {
  "language_info": {
   "name": "python"
  }
 },
 "nbformat": 4,
 "nbformat_minor": 2
}
